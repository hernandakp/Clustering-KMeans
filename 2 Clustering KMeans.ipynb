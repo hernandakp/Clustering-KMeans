{
 "cells": [
  {
   "cell_type": "code",
   "execution_count": 3,
   "metadata": {},
   "outputs": [],
   "source": [
    "'Author: hernanda472@gmail.com'\n",
    "\n",
    "import numpy as np\n",
    "import pandas as pd\n",
    "from sklearn.cluster import KMeans\n",
    "from sklearn.cluster import AgglomerativeClustering\n",
    "from matplotlib import pyplot as plt"
   ]
  },
  {
   "cell_type": "code",
   "execution_count": 4,
   "metadata": {},
   "outputs": [
    {
     "data": {
      "text/html": [
       "<div>\n",
       "<style scoped>\n",
       "    .dataframe tbody tr th:only-of-type {\n",
       "        vertical-align: middle;\n",
       "    }\n",
       "\n",
       "    .dataframe tbody tr th {\n",
       "        vertical-align: top;\n",
       "    }\n",
       "\n",
       "    .dataframe thead th {\n",
       "        text-align: right;\n",
       "    }\n",
       "</style>\n",
       "<table border=\"1\" class=\"dataframe\">\n",
       "  <thead>\n",
       "    <tr style=\"text-align: right;\">\n",
       "      <th></th>\n",
       "      <th>Produk</th>\n",
       "      <th>Kode Produk</th>\n",
       "      <th>Nama Variasi</th>\n",
       "      <th>Kode Variasi</th>\n",
       "      <th>Kode Variasi.1</th>\n",
       "      <th>SKU Induk</th>\n",
       "      <th>Pengunjung Produk</th>\n",
       "      <th>Halaman Produk Dilihat</th>\n",
       "      <th>Tingkat Pengunjung Melihat Tanpa Membeli</th>\n",
       "      <th>Suka</th>\n",
       "      <th>...</th>\n",
       "      <th>Tingkat Konversi (Pesanan Dibuat dibagi Kunjungan)</th>\n",
       "      <th>Total Pembeli (Pesanan Siap Dikirim)</th>\n",
       "      <th>Produk (Pesanan Siap Dikirim)</th>\n",
       "      <th>Penjualan (Pesanan Siap Dikirim) (IDR)</th>\n",
       "      <th>Tingkat Konversi (Pesanan Siap Dikirim dibagi Kunjungan)</th>\n",
       "      <th>Tingkat Konversi (Pesanan Siap Dikirim dibagi Pesanan Dibuat)</th>\n",
       "      <th>Total Pembeli (Pesanan Dibayar)</th>\n",
       "      <th>Total Produk Dibayar</th>\n",
       "      <th>Total Penjualan (Pesanan Dibayar) (IDR)</th>\n",
       "      <th>Tingkat Konversi (Pesanan Dibayar dibagi Kunjungan)</th>\n",
       "    </tr>\n",
       "  </thead>\n",
       "  <tbody>\n",
       "    <tr>\n",
       "      <th>0</th>\n",
       "      <td>herbisida GRAMOXONE 276SL 1 liter pembasmi gul...</td>\n",
       "      <td>11847975308</td>\n",
       "      <td>-</td>\n",
       "      <td>-</td>\n",
       "      <td>-</td>\n",
       "      <td>-</td>\n",
       "      <td>679</td>\n",
       "      <td>2280</td>\n",
       "      <td>19,59%</td>\n",
       "      <td>21</td>\n",
       "      <td>...</td>\n",
       "      <td>7,51%</td>\n",
       "      <td>50</td>\n",
       "      <td>329</td>\n",
       "      <td>28.282.826</td>\n",
       "      <td>7,36%</td>\n",
       "      <td>98,04%</td>\n",
       "      <td>49</td>\n",
       "      <td>328</td>\n",
       "      <td>28173646</td>\n",
       "      <td>7,22%</td>\n",
       "    </tr>\n",
       "    <tr>\n",
       "      <th>1</th>\n",
       "      <td>ZnSo4 30% super plant nutrition 1 kg || untuk ...</td>\n",
       "      <td>8887198024</td>\n",
       "      <td>-</td>\n",
       "      <td>-</td>\n",
       "      <td>-</td>\n",
       "      <td>-</td>\n",
       "      <td>328</td>\n",
       "      <td>856</td>\n",
       "      <td>33,54%</td>\n",
       "      <td>2</td>\n",
       "      <td>...</td>\n",
       "      <td>4,57%</td>\n",
       "      <td>13</td>\n",
       "      <td>15</td>\n",
       "      <td>398.195</td>\n",
       "      <td>3,96%</td>\n",
       "      <td>86,67%</td>\n",
       "      <td>12</td>\n",
       "      <td>14</td>\n",
       "      <td>360085</td>\n",
       "      <td>3,66%</td>\n",
       "    </tr>\n",
       "    <tr>\n",
       "      <th>2</th>\n",
       "      <td>MEGABOR pupuk boron mikro fertilizer kemasan 1...</td>\n",
       "      <td>9687045563</td>\n",
       "      <td>-</td>\n",
       "      <td>-</td>\n",
       "      <td>-</td>\n",
       "      <td>-</td>\n",
       "      <td>132</td>\n",
       "      <td>412</td>\n",
       "      <td>34,09%</td>\n",
       "      <td>3</td>\n",
       "      <td>...</td>\n",
       "      <td>3,03%</td>\n",
       "      <td>4</td>\n",
       "      <td>16</td>\n",
       "      <td>412.740</td>\n",
       "      <td>3,03%</td>\n",
       "      <td>100,00%</td>\n",
       "      <td>4</td>\n",
       "      <td>16</td>\n",
       "      <td>412740</td>\n",
       "      <td>3,03%</td>\n",
       "    </tr>\n",
       "    <tr>\n",
       "      <th>3</th>\n",
       "      <td>GRAMOXONE 500 ml || Herbisida parakuat</td>\n",
       "      <td>10121986528</td>\n",
       "      <td>-</td>\n",
       "      <td>-</td>\n",
       "      <td>-</td>\n",
       "      <td>-</td>\n",
       "      <td>34</td>\n",
       "      <td>136</td>\n",
       "      <td>11,76%</td>\n",
       "      <td>0</td>\n",
       "      <td>...</td>\n",
       "      <td>14,71%</td>\n",
       "      <td>5</td>\n",
       "      <td>13</td>\n",
       "      <td>632.872</td>\n",
       "      <td>14,71%</td>\n",
       "      <td>100,00%</td>\n",
       "      <td>5</td>\n",
       "      <td>11</td>\n",
       "      <td>511868</td>\n",
       "      <td>14,71%</td>\n",
       "    </tr>\n",
       "    <tr>\n",
       "      <th>4</th>\n",
       "      <td>REGENT insektisida 50 sc 250 ml</td>\n",
       "      <td>10622500787</td>\n",
       "      <td>-</td>\n",
       "      <td>-</td>\n",
       "      <td>-</td>\n",
       "      <td>-</td>\n",
       "      <td>15</td>\n",
       "      <td>23</td>\n",
       "      <td>46,67%</td>\n",
       "      <td>0</td>\n",
       "      <td>...</td>\n",
       "      <td>6,67%</td>\n",
       "      <td>1</td>\n",
       "      <td>7</td>\n",
       "      <td>561.350</td>\n",
       "      <td>6,67%</td>\n",
       "      <td>100,00%</td>\n",
       "      <td>0</td>\n",
       "      <td>0</td>\n",
       "      <td>0</td>\n",
       "      <td>0,00%</td>\n",
       "    </tr>\n",
       "    <tr>\n",
       "      <th>...</th>\n",
       "      <td>...</td>\n",
       "      <td>...</td>\n",
       "      <td>...</td>\n",
       "      <td>...</td>\n",
       "      <td>...</td>\n",
       "      <td>...</td>\n",
       "      <td>...</td>\n",
       "      <td>...</td>\n",
       "      <td>...</td>\n",
       "      <td>...</td>\n",
       "      <td>...</td>\n",
       "      <td>...</td>\n",
       "      <td>...</td>\n",
       "      <td>...</td>\n",
       "      <td>...</td>\n",
       "      <td>...</td>\n",
       "      <td>...</td>\n",
       "      <td>...</td>\n",
       "      <td>...</td>\n",
       "      <td>...</td>\n",
       "      <td>...</td>\n",
       "    </tr>\n",
       "    <tr>\n",
       "      <th>100</th>\n",
       "      <td>herbisida DMA 6 (dimetil amina) 400ml</td>\n",
       "      <td>13623691302</td>\n",
       "      <td>-</td>\n",
       "      <td>-</td>\n",
       "      <td>-</td>\n",
       "      <td>-</td>\n",
       "      <td>11</td>\n",
       "      <td>20</td>\n",
       "      <td>45,45%</td>\n",
       "      <td>0</td>\n",
       "      <td>...</td>\n",
       "      <td>0,00%</td>\n",
       "      <td>0</td>\n",
       "      <td>0</td>\n",
       "      <td>0</td>\n",
       "      <td>0,00%</td>\n",
       "      <td>0,00%</td>\n",
       "      <td>0</td>\n",
       "      <td>0</td>\n",
       "      <td>0</td>\n",
       "      <td>0,00%</td>\n",
       "    </tr>\n",
       "    <tr>\n",
       "      <th>101</th>\n",
       "      <td>herbisida REDZONE 276SL 1 liter pembasmi rumput</td>\n",
       "      <td>11334386139</td>\n",
       "      <td>-</td>\n",
       "      <td>-</td>\n",
       "      <td>-</td>\n",
       "      <td>-</td>\n",
       "      <td>1</td>\n",
       "      <td>3</td>\n",
       "      <td>0,00%</td>\n",
       "      <td>0</td>\n",
       "      <td>...</td>\n",
       "      <td>0,00%</td>\n",
       "      <td>0</td>\n",
       "      <td>0</td>\n",
       "      <td>0</td>\n",
       "      <td>0,00%</td>\n",
       "      <td>0,00%</td>\n",
       "      <td>0</td>\n",
       "      <td>0</td>\n",
       "      <td>0</td>\n",
       "      <td>0,00%</td>\n",
       "    </tr>\n",
       "    <tr>\n",
       "      <th>102</th>\n",
       "      <td>KAYABAS 555 SC 250ml || Herbisida selektif +bo...</td>\n",
       "      <td>5595764636</td>\n",
       "      <td>-</td>\n",
       "      <td>-</td>\n",
       "      <td>-</td>\n",
       "      <td>-</td>\n",
       "      <td>19</td>\n",
       "      <td>36</td>\n",
       "      <td>36,84%</td>\n",
       "      <td>0</td>\n",
       "      <td>...</td>\n",
       "      <td>0,00%</td>\n",
       "      <td>0</td>\n",
       "      <td>0</td>\n",
       "      <td>0</td>\n",
       "      <td>0,00%</td>\n",
       "      <td>0,00%</td>\n",
       "      <td>0</td>\n",
       "      <td>0</td>\n",
       "      <td>0</td>\n",
       "      <td>0,00%</td>\n",
       "    </tr>\n",
       "    <tr>\n",
       "      <th>103</th>\n",
       "      <td>KAYABAS 555 SC 1 LITER || Herbisida selektif j...</td>\n",
       "      <td>7097402141</td>\n",
       "      <td>-</td>\n",
       "      <td>-</td>\n",
       "      <td>-</td>\n",
       "      <td>-</td>\n",
       "      <td>58</td>\n",
       "      <td>148</td>\n",
       "      <td>36,21%</td>\n",
       "      <td>1</td>\n",
       "      <td>...</td>\n",
       "      <td>0,00%</td>\n",
       "      <td>0</td>\n",
       "      <td>0</td>\n",
       "      <td>0</td>\n",
       "      <td>0,00%</td>\n",
       "      <td>0,00%</td>\n",
       "      <td>0</td>\n",
       "      <td>0</td>\n",
       "      <td>0</td>\n",
       "      <td>0,00%</td>\n",
       "    </tr>\n",
       "    <tr>\n",
       "      <th>104</th>\n",
       "      <td>insektisida metindo 25 WP 250 gram</td>\n",
       "      <td>11333616873</td>\n",
       "      <td>-</td>\n",
       "      <td>-</td>\n",
       "      <td>-</td>\n",
       "      <td>-</td>\n",
       "      <td>1</td>\n",
       "      <td>3</td>\n",
       "      <td>0,00%</td>\n",
       "      <td>0</td>\n",
       "      <td>...</td>\n",
       "      <td>0,00%</td>\n",
       "      <td>0</td>\n",
       "      <td>0</td>\n",
       "      <td>0</td>\n",
       "      <td>0,00%</td>\n",
       "      <td>0,00%</td>\n",
       "      <td>0</td>\n",
       "      <td>0</td>\n",
       "      <td>0</td>\n",
       "      <td>0,00%</td>\n",
       "    </tr>\n",
       "  </tbody>\n",
       "</table>\n",
       "<p>105 rows × 26 columns</p>\n",
       "</div>"
      ],
      "text/plain": [
       "                                                Produk  Kode Produk  \\\n",
       "0    herbisida GRAMOXONE 276SL 1 liter pembasmi gul...  11847975308   \n",
       "1    ZnSo4 30% super plant nutrition 1 kg || untuk ...   8887198024   \n",
       "2    MEGABOR pupuk boron mikro fertilizer kemasan 1...   9687045563   \n",
       "3               GRAMOXONE 500 ml || Herbisida parakuat  10121986528   \n",
       "4                      REGENT insektisida 50 sc 250 ml  10622500787   \n",
       "..                                                 ...          ...   \n",
       "100              herbisida DMA 6 (dimetil amina) 400ml  13623691302   \n",
       "101    herbisida REDZONE 276SL 1 liter pembasmi rumput  11334386139   \n",
       "102  KAYABAS 555 SC 250ml || Herbisida selektif +bo...   5595764636   \n",
       "103  KAYABAS 555 SC 1 LITER || Herbisida selektif j...   7097402141   \n",
       "104                 insektisida metindo 25 WP 250 gram  11333616873   \n",
       "\n",
       "    Nama Variasi Kode Variasi Kode Variasi.1 SKU Induk  Pengunjung Produk  \\\n",
       "0              -            -              -         -                679   \n",
       "1              -            -              -         -                328   \n",
       "2              -            -              -         -                132   \n",
       "3              -            -              -         -                 34   \n",
       "4              -            -              -         -                 15   \n",
       "..           ...          ...            ...       ...                ...   \n",
       "100            -            -              -         -                 11   \n",
       "101            -            -              -         -                  1   \n",
       "102            -            -              -         -                 19   \n",
       "103            -            -              -         -                 58   \n",
       "104            -            -              -         -                  1   \n",
       "\n",
       "     Halaman Produk Dilihat Tingkat Pengunjung Melihat Tanpa Membeli  Suka  \\\n",
       "0                      2280                                   19,59%    21   \n",
       "1                       856                                   33,54%     2   \n",
       "2                       412                                   34,09%     3   \n",
       "3                       136                                   11,76%     0   \n",
       "4                        23                                   46,67%     0   \n",
       "..                      ...                                      ...   ...   \n",
       "100                      20                                   45,45%     0   \n",
       "101                       3                                    0,00%     0   \n",
       "102                      36                                   36,84%     0   \n",
       "103                     148                                   36,21%     1   \n",
       "104                       3                                    0,00%     0   \n",
       "\n",
       "     ...  Tingkat Konversi (Pesanan Dibuat dibagi Kunjungan)  \\\n",
       "0    ...                                              7,51%    \n",
       "1    ...                                              4,57%    \n",
       "2    ...                                              3,03%    \n",
       "3    ...                                             14,71%    \n",
       "4    ...                                              6,67%    \n",
       "..   ...                                                ...    \n",
       "100  ...                                              0,00%    \n",
       "101  ...                                              0,00%    \n",
       "102  ...                                              0,00%    \n",
       "103  ...                                              0,00%    \n",
       "104  ...                                              0,00%    \n",
       "\n",
       "     Total Pembeli (Pesanan Siap Dikirim) Produk (Pesanan Siap Dikirim)  \\\n",
       "0                                      50                           329   \n",
       "1                                      13                            15   \n",
       "2                                       4                            16   \n",
       "3                                       5                            13   \n",
       "4                                       1                             7   \n",
       "..                                    ...                           ...   \n",
       "100                                     0                             0   \n",
       "101                                     0                             0   \n",
       "102                                     0                             0   \n",
       "103                                     0                             0   \n",
       "104                                     0                             0   \n",
       "\n",
       "     Penjualan (Pesanan Siap Dikirim) (IDR)  \\\n",
       "0                                28.282.826   \n",
       "1                                   398.195   \n",
       "2                                   412.740   \n",
       "3                                   632.872   \n",
       "4                                   561.350   \n",
       "..                                      ...   \n",
       "100                                       0   \n",
       "101                                       0   \n",
       "102                                       0   \n",
       "103                                       0   \n",
       "104                                       0   \n",
       "\n",
       "     Tingkat Konversi (Pesanan Siap Dikirim dibagi Kunjungan)  \\\n",
       "0                                                7,36%          \n",
       "1                                                3,96%          \n",
       "2                                                3,03%          \n",
       "3                                               14,71%          \n",
       "4                                                6,67%          \n",
       "..                                                 ...          \n",
       "100                                              0,00%          \n",
       "101                                              0,00%          \n",
       "102                                              0,00%          \n",
       "103                                              0,00%          \n",
       "104                                              0,00%          \n",
       "\n",
       "    Tingkat Konversi (Pesanan Siap Dikirim dibagi Pesanan Dibuat)  \\\n",
       "0                                               98,04%              \n",
       "1                                               86,67%              \n",
       "2                                              100,00%              \n",
       "3                                              100,00%              \n",
       "4                                              100,00%              \n",
       "..                                                 ...              \n",
       "100                                              0,00%              \n",
       "101                                              0,00%              \n",
       "102                                              0,00%              \n",
       "103                                              0,00%              \n",
       "104                                              0,00%              \n",
       "\n",
       "    Total Pembeli (Pesanan Dibayar)  Total Produk Dibayar  \\\n",
       "0                                49                   328   \n",
       "1                                12                    14   \n",
       "2                                 4                    16   \n",
       "3                                 5                    11   \n",
       "4                                 0                     0   \n",
       "..                              ...                   ...   \n",
       "100                               0                     0   \n",
       "101                               0                     0   \n",
       "102                               0                     0   \n",
       "103                               0                     0   \n",
       "104                               0                     0   \n",
       "\n",
       "     Total Penjualan (Pesanan Dibayar) (IDR)  \\\n",
       "0                                   28173646   \n",
       "1                                     360085   \n",
       "2                                     412740   \n",
       "3                                     511868   \n",
       "4                                          0   \n",
       "..                                       ...   \n",
       "100                                        0   \n",
       "101                                        0   \n",
       "102                                        0   \n",
       "103                                        0   \n",
       "104                                        0   \n",
       "\n",
       "    Tingkat Konversi (Pesanan Dibayar dibagi Kunjungan)  \n",
       "0                                                7,22%   \n",
       "1                                                3,66%   \n",
       "2                                                3,03%   \n",
       "3                                               14,71%   \n",
       "4                                                0,00%   \n",
       "..                                                 ...   \n",
       "100                                              0,00%   \n",
       "101                                              0,00%   \n",
       "102                                              0,00%   \n",
       "103                                              0,00%   \n",
       "104                                              0,00%   \n",
       "\n",
       "[105 rows x 26 columns]"
      ]
     },
     "execution_count": 4,
     "metadata": {},
     "output_type": "execute_result"
    }
   ],
   "source": [
    "df = pd.read_excel(\"2 Dataset.xlsx\")\n",
    "df"
   ]
  },
  {
   "cell_type": "markdown",
   "metadata": {},
   "source": [
    "**Total Penjualan (Pesanan Dibayar) (IDR) vs Total Produk Dibayar**"
   ]
  },
  {
   "cell_type": "code",
   "execution_count": 5,
   "metadata": {},
   "outputs": [
    {
     "data": {
      "image/png": "[encoded data removed]",
      "text/plain": [
       "<Figure size 360x360 with 1 Axes>"
      ]
     },
     "metadata": {
      "needs_background": "light"
     },
     "output_type": "display_data"
    }
   ],
   "source": [
    "Total_Penjualan_Pesanan_Dibayar = df['Total Penjualan (Pesanan Dibayar) (IDR)'].values\n",
    "Total_Produk_Dibayar = df['Total Produk Dibayar'].values\n",
    "X = np.array(list(zip(Total_Penjualan_Pesanan_Dibayar, Total_Produk_Dibayar)))\n",
    "plt.figure(figsize=(5, 5))\n",
    "plt.scatter(Total_Penjualan_Pesanan_Dibayar, Total_Produk_Dibayar, c = 'black')\n",
    "plt.xlabel('Total Penjualan (Pesanan Dibayar) (IDR)')\n",
    "plt.ylabel('Total Produk Dibayar')\n",
    "plt.show()"
   ]
  },
  {
   "cell_type": "code",
   "execution_count": 6,
   "metadata": {},
   "outputs": [
    {
     "data": {
      "image/png": "[encoded data removed]",
      "text/plain": [
       "<Figure size 360x360 with 1 Axes>"
      ]
     },
     "metadata": {
      "needs_background": "light"
     },
     "output_type": "display_data"
    }
   ],
   "source": [
    "hc=AgglomerativeClustering(n_clusters=3, affinity='euclidean', linkage='ward' )\n",
    "y_hc = hc.fit_predict(X)\n",
    "plt.figure(figsize=(5, 5))\n",
    "plt.scatter(X[y_hc == 0, 0], X[y_hc == 0, 1], c = 'purple', label = 'Cluster 1')\n",
    "plt.scatter(X[y_hc == 1, 0], X[y_hc == 1, 1], c = 'blue', label = 'Cluster 2')\n",
    "plt.scatter(X[y_hc == 2, 0], X[y_hc == 2, 1], c = 'green', label = 'Cluster 3')\n",
    "plt.title('Clusters')\n",
    "plt.xlabel('Total Penjualan (Pesanan Dibayar) (IDR)')\n",
    "plt.ylabel('Total Produk Dibayar')\n",
    "plt.legend()\n",
    "plt.show()"
   ]
  },
  {
   "cell_type": "code",
   "execution_count": 7,
   "metadata": {},
   "outputs": [
    {
     "data": {
      "image/png": "[encoded data removed]",
      "text/plain": [
       "<Figure size 360x360 with 1 Axes>"
      ]
     },
     "metadata": {
      "needs_background": "light"
     },
     "output_type": "display_data"
    }
   ],
   "source": [
    "km3=KMeans(n_clusters=3,init='k-means++', n_init=10, random_state=0)\n",
    "y_means = km3.fit_predict(X)\n",
    "plt.figure(figsize=(5, 5))\n",
    "plt.scatter(X[y_means==0,0],X[y_means==0,1], c='purple',label='Cluster1')\n",
    "plt.scatter(X[y_means==1,0],X[y_means==1,1], c='blue',label='Cluster2')\n",
    "plt.scatter(X[y_means==2,0],X[y_means==2,1], c='green',label='Cluster3')\n",
    "plt.scatter(km3.cluster_centers_[:,0], km3.cluster_centers_[:,1],s=200,marker='s', c='red', alpha=0.7, label='Centroids')\n",
    "plt.title('Segments')\n",
    "plt.xlabel('Total Penjualan (Pesanan Dibayar) (IDR)')\n",
    "plt.ylabel('Total Produk Dibayar')\n",
    "plt.legend()\n",
    "plt.show()"
   ]
  },
  {
   "cell_type": "markdown",
   "metadata": {},
   "source": [
    "**Produk (Pesanan Siap Dikirim) vs Total Produk Dibayar**"
   ]
  },
  {
   "cell_type": "code",
   "execution_count": 8,
   "metadata": {},
   "outputs": [
    {
     "data": {
      "image/png": "[encoded data removed]",
      "text/plain": [
       "<Figure size 360x360 with 1 Axes>"
      ]
     },
     "metadata": {
      "needs_background": "light"
     },
     "output_type": "display_data"
    }
   ],
   "source": [
    "Produk_Pesanan_Siap_Dikirim = df['Produk (Pesanan Siap Dikirim)'].values\n",
    "Total_Produk_Dibayar = df['Total Produk Dibayar'].values\n",
    "X = np.array(list(zip(Produk_Pesanan_Siap_Dikirim, Total_Produk_Dibayar)))\n",
    "plt.figure(figsize=(5, 5))\n",
    "plt.scatter(Produk_Pesanan_Siap_Dikirim, Total_Produk_Dibayar, c = 'black')\n",
    "plt.xlabel('Produk (Pesanan Siap Dikirim)')\n",
    "plt.ylabel('Total Produk Dibayar')\n",
    "plt.show()"
   ]
  },
  {
   "cell_type": "code",
   "execution_count": 9,
   "metadata": {},
   "outputs": [
    {
     "data": {
      "image/png": "[encoded data removed]",
      "text/plain": [
       "<Figure size 360x360 with 1 Axes>"
      ]
     },
     "metadata": {
      "needs_background": "light"
     },
     "output_type": "display_data"
    }
   ],
   "source": [
    "hc=AgglomerativeClustering(n_clusters=3, affinity='euclidean', linkage='ward' )\n",
    "y_hc = hc.fit_predict(X)\n",
    "plt.figure(figsize=(5, 5))\n",
    "plt.scatter(X[y_hc == 0, 0], X[y_hc == 0, 1], c = 'purple', label = 'Cluster 1')\n",
    "plt.scatter(X[y_hc == 1, 0], X[y_hc == 1, 1], c = 'blue', label = 'Cluster 2')\n",
    "plt.scatter(X[y_hc == 2, 0], X[y_hc == 2, 1], c = 'green', label = 'Cluster 3')\n",
    "plt.title('Clusters')\n",
    "plt.xlabel('Produk (Pesanan Siap Dikirim)')\n",
    "plt.ylabel('Total Produk Dibayar')\n",
    "plt.legend()\n",
    "plt.show()"
   ]
  },
  {
   "cell_type": "code",
   "execution_count": 10,
   "metadata": {},
   "outputs": [
    {
     "data": {
      "image/png": "[encoded data removed]",
      "text/plain": [
       "<Figure size 360x360 with 1 Axes>"
      ]
     },
     "metadata": {
      "needs_background": "light"
     },
     "output_type": "display_data"
    }
   ],
   "source": [
    "km3=KMeans(n_clusters=3,init='k-means++', n_init=10, random_state=0)\n",
    "y_means = km3.fit_predict(X)\n",
    "plt.figure(figsize=(5, 5))\n",
    "plt.scatter(X[y_means==0,0],X[y_means==0,1], c='purple',label='Cluster1')\n",
    "plt.scatter(X[y_means==1,0],X[y_means==1,1], c='blue',label='Cluster2')\n",
    "plt.scatter(X[y_means==2,0],X[y_means==2,1], c='green',label='Cluster3')\n",
    "plt.scatter(km3.cluster_centers_[:,0], km3.cluster_centers_[:,1],s=200,marker='s', c='red', alpha=0.7, label='Centroids')\n",
    "plt.title('Segments')\n",
    "plt.xlabel('Produk (Pesanan Siap Dikirim)')\n",
    "plt.ylabel('Total Produk Dibayar')\n",
    "plt.legend()\n",
    "plt.show()"
   ]
  },
  {
   "cell_type": "markdown",
   "metadata": {},
   "source": [
    "**Produk (Pesanan Siap Dikirim) vs Total Penjualan (Pesanan Dibayar) (IDR)**"
   ]
  },
  {
   "cell_type": "code",
   "execution_count": 11,
   "metadata": {},
   "outputs": [
    {
     "data": {
      "image/png": "[encoded data removed]",
      "text/plain": [
       "<Figure size 360x360 with 1 Axes>"
      ]
     },
     "metadata": {
      "needs_background": "light"
     },
     "output_type": "display_data"
    }
   ],
   "source": [
    "Produk_Pesanan_Siap_Dikirim = df['Produk (Pesanan Siap Dikirim)'].values\n",
    "Total_Penjualan_Pesanan_Dibayar = df['Total Penjualan (Pesanan Dibayar) (IDR)'].values\n",
    "X = np.array(list(zip(Produk_Pesanan_Siap_Dikirim, Total_Penjualan_Pesanan_Dibayar)))\n",
    "plt.figure(figsize=(5, 5))\n",
    "plt.scatter(Produk_Pesanan_Siap_Dikirim, Total_Penjualan_Pesanan_Dibayar, c = 'black')\n",
    "plt.xlabel('Produk (Pesanan Siap Dikirim)')\n",
    "plt.ylabel('Total Penjualan (Pesanan Dibayar) (IDR)')\n",
    "plt.show()"
   ]
  },
  {
   "cell_type": "code",
   "execution_count": 12,
   "metadata": {},
   "outputs": [
    {
     "data": {
      "image/png": "[encoded data removed]",
      "text/plain": [
       "<Figure size 360x360 with 1 Axes>"
      ]
     },
     "metadata": {
      "needs_background": "light"
     },
     "output_type": "display_data"
    }
   ],
   "source": [
    "hc=AgglomerativeClustering(n_clusters=3, affinity='euclidean', linkage='ward' )\n",
    "y_hc = hc.fit_predict(X)\n",
    "plt.figure(figsize=(5, 5))\n",
    "plt.scatter(X[y_hc == 0, 0], X[y_hc == 0, 1], c = 'purple', label = 'Cluster 1')\n",
    "plt.scatter(X[y_hc == 1, 0], X[y_hc == 1, 1], c = 'blue', label = 'Cluster 2')\n",
    "plt.scatter(X[y_hc == 2, 0], X[y_hc == 2, 1], c = 'green', label = 'Cluster 3')\n",
    "plt.title('Clusters')\n",
    "plt.xlabel('Produk (Pesanan Siap Dikirim)')\n",
    "plt.ylabel('Total Penjualan (Pesanan Dibayar) (IDR)')\n",
    "plt.legend()\n",
    "plt.show()"
   ]
  },
  {
   "cell_type": "code",
   "execution_count": 13,
   "metadata": {},
   "outputs": [
    {
     "data": {
      "image/png": "[encoded data removed]",
      "text/plain": [
       "<Figure size 360x360 with 1 Axes>"
      ]
     },
     "metadata": {
      "needs_background": "light"
     },
     "output_type": "display_data"
    }
   ],
   "source": [
    "km3=KMeans(n_clusters=3,init='k-means++', n_init=10, random_state=0)\n",
    "y_means = km3.fit_predict(X)\n",
    "plt.figure(figsize=(5, 5))\n",
    "plt.scatter(X[y_means==0,0],X[y_means==0,1], c='purple',label='Cluster1')\n",
    "plt.scatter(X[y_means==1,0],X[y_means==1,1], c='blue',label='Cluster2')\n",
    "plt.scatter(X[y_means==2,0],X[y_means==2,1], c='green',label='Cluster3')\n",
    "plt.scatter(km3.cluster_centers_[:,0], km3.cluster_centers_[:,1],s=200,marker='s', c='red', alpha=0.7, label='Centroids')\n",
    "plt.title('Segments')\n",
    "plt.xlabel('Produk (Pesanan Siap Dikirim)')\n",
    "plt.ylabel('Total Penjualan (Pesanan Dibayar) (IDR)')\n",
    "plt.legend()\n",
    "plt.show()"
   ]
  }
 ],
 "metadata": {
  "interpreter": {
   "hash": "26de051ba29f2982a8de78e945f0abaf191376122a1563185a90213a26c5da77"
  },
  "kernelspec": {
   "display_name": "Python 3.10.4 64-bit",
   "language": "python",
   "name": "python3"
  },
  "language_info": {
   "codemirror_mode": {
    "name": "ipython",
    "version": 3
   },
   "file_extension": ".py",
   "mimetype": "text/x-python",
   "name": "python",
   "nbconvert_exporter": "python",
   "pygments_lexer": "ipython3",
   "version": "3.10.4"
  },
  "orig_nbformat": 4
 },
 "nbformat": 4,
 "nbformat_minor": 2
}
